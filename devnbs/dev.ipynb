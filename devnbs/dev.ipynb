{
 "cells": [
  {
   "cell_type": "code",
   "execution_count": 1,
   "id": "8d15a01d",
   "metadata": {},
   "outputs": [
    {
     "name": "stdout",
     "output_type": "stream",
     "text": [
      "Overwriting ../params.py\n"
     ]
    }
   ],
   "source": [
    "%%writefile ../params.py\n",
    "\n",
    "PARAMS = {'double': 2.0,\n",
    "          'triple': 3.0,\n",
    "          'quadruple': 4.0}"
   ]
  },
  {
   "cell_type": "code",
   "execution_count": 2,
   "id": "59f534cf",
   "metadata": {},
   "outputs": [
    {
     "name": "stdout",
     "output_type": "stream",
     "text": [
      "C:\\Users\\Prabu\\projworks\\chtc_toy\\data\n"
     ]
    }
   ],
   "source": [
    "from pathlib import Path\n",
    "import torch\n",
    "torch.manual_seed(42)\n",
    "\n",
    "data_dir = Path('../data').resolve()\n",
    "data_dir.mkdir(parents=True, exist_ok=True)\n",
    "print(data_dir)\n",
    "\n",
    "t1 = torch.rand(3, 4)\n",
    "torch.save(t1, data_dir/'t1.pt')\n",
    "\n",
    "t2 = torch.rand(4, 5)\n",
    "torch.save(t2, data_dir/'t2.pt')"
   ]
  },
  {
   "cell_type": "code",
   "execution_count": 3,
   "id": "6a4b4b51",
   "metadata": {},
   "outputs": [
    {
     "name": "stdout",
     "output_type": "stream",
     "text": [
      "Overwriting ../main.py\n"
     ]
    }
   ],
   "source": [
    "%%writefile ../main.py\n",
    "\n",
    "from pathlib import Path\n",
    "import argparse\n",
    "import numpy as np\n",
    "import pandas as pd\n",
    "import torch\n",
    "from argparse import ArgumentParser\n",
    "\n",
    "from params import *\n",
    "\n",
    "if __name__ == '__main__':\n",
    "    parser = ArgumentParser()\n",
    "    parser.add_argument('--data_file',\n",
    "                        type=str,\n",
    "                        required=True,\n",
    "                        action='store')\n",
    "    parser.add_argument('--param',\n",
    "                        type=str,\n",
    "                        default='double',\n",
    "                        action='store')\n",
    "    parser.add_argument('--out_dir',\n",
    "                        type=str,\n",
    "                        required=True,\n",
    "                        action='store')\n",
    "    args = parser.parse_args()\n",
    "    data_file = Path(args.data_file).resolve()\n",
    "    factor = PARAMS[args.param]\n",
    "    out_dir = Path(args.out_dir).resolve()\n",
    "    \n",
    "    out_dir.mkdir(parents=True, exist_ok=True)\n",
    "    out_file = out_dir/f'{data_file.name}_X{int(factor)}.pt'\n",
    "    \n",
    "    t = torch.load(data_file)\n",
    "    tout = t*factor\n",
    "    torch.save(tout, out_file)"
   ]
  },
  {
   "cell_type": "code",
   "execution_count": 4,
   "id": "e1f3d5b9",
   "metadata": {},
   "outputs": [
    {
     "name": "stdout",
     "output_type": "stream",
     "text": [
      "tensor([[0.8823, 0.9150, 0.3829, 0.9593],\n",
      "        [0.3904, 0.6009, 0.2566, 0.7936],\n",
      "        [0.9408, 0.1332, 0.9346, 0.5936]])\n",
      "tensor([[1.7645, 1.8300, 0.7657, 1.9186],\n",
      "        [0.7809, 1.2018, 0.5131, 1.5873],\n",
      "        [1.8815, 0.2664, 1.8692, 1.1872]])\n"
     ]
    }
   ],
   "source": [
    "t1 = torch.load(Path('../data/t1.pt'))\n",
    "t1o = torch.load(Path('../out/t1.pt_X2.pt'))\n",
    "print(t1)\n",
    "print(t1o)"
   ]
  },
  {
   "cell_type": "code",
   "execution_count": 5,
   "id": "70d63ea4",
   "metadata": {},
   "outputs": [
    {
     "name": "stdout",
     "output_type": "stream",
     "text": [
      "tensor([[0.8694, 0.5677, 0.7411, 0.4294, 0.8854],\n",
      "        [0.5739, 0.2666, 0.6274, 0.2696, 0.4414],\n",
      "        [0.2969, 0.8317, 0.1053, 0.2695, 0.3588],\n",
      "        [0.1994, 0.5472, 0.0062, 0.9516, 0.0753]])\n",
      "tensor([[2.6082, 1.7031, 2.2233, 1.2882, 2.6563],\n",
      "        [1.7217, 0.7997, 1.8823, 0.8089, 1.3241],\n",
      "        [0.8908, 2.4951, 0.3159, 0.8085, 1.0764],\n",
      "        [0.5981, 1.6416, 0.0185, 2.8547, 0.2258]])\n"
     ]
    }
   ],
   "source": [
    "t2 = torch.load(Path('../data/t2.pt'))\n",
    "t2o = torch.load(Path('../out/t2.pt_X3.pt'))\n",
    "print(t2)\n",
    "print(t2o)"
   ]
  },
  {
   "cell_type": "code",
   "execution_count": null,
   "id": "243d87e0",
   "metadata": {},
   "outputs": [],
   "source": []
  }
 ],
 "metadata": {
  "kernelspec": {
   "display_name": "Python 3 (ipykernel)",
   "language": "python",
   "name": "python3"
  },
  "language_info": {
   "codemirror_mode": {
    "name": "ipython",
    "version": 3
   },
   "file_extension": ".py",
   "mimetype": "text/x-python",
   "name": "python",
   "nbconvert_exporter": "python",
   "pygments_lexer": "ipython3",
   "version": "3.9.15"
  }
 },
 "nbformat": 4,
 "nbformat_minor": 5
}
