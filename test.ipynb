{
 "cells": [
  {
   "cell_type": "code",
   "execution_count": 1,
   "id": "6face3d4",
   "metadata": {},
   "outputs": [],
   "source": [
    "from pathlib import Path\n",
    "import torch"
   ]
  },
  {
   "cell_type": "code",
   "execution_count": 2,
   "id": "1895cb7c",
   "metadata": {},
   "outputs": [
    {
     "name": "stdout",
     "output_type": "stream",
     "text": [
      "tensor([[0.8823, 0.9150, 0.3829, 0.9593],\n",
      "        [0.3904, 0.6009, 0.2566, 0.7936],\n",
      "        [0.9408, 0.1332, 0.9346, 0.5936]])\n",
      "tensor([[1.7645, 1.8300, 0.7657, 1.9186],\n",
      "        [0.7809, 1.2018, 0.5131, 1.5873],\n",
      "        [1.8815, 0.2664, 1.8692, 1.1872]])\n"
     ]
    }
   ],
   "source": [
    "t1 = torch.load(Path('data/t1.pt'))\n",
    "t1o = torch.load(Path('out/t1.pt_X2.pt'))\n",
    "print(t1)\n",
    "print(t1o)"
   ]
  },
  {
   "cell_type": "code",
   "execution_count": 3,
   "id": "42de9005",
   "metadata": {},
   "outputs": [
    {
     "name": "stdout",
     "output_type": "stream",
     "text": [
      "tensor([[0.8694, 0.5677, 0.7411, 0.4294, 0.8854],\n",
      "        [0.5739, 0.2666, 0.6274, 0.2696, 0.4414],\n",
      "        [0.2969, 0.8317, 0.1053, 0.2695, 0.3588],\n",
      "        [0.1994, 0.5472, 0.0062, 0.9516, 0.0753]])\n",
      "tensor([[2.6082, 1.7031, 2.2233, 1.2882, 2.6563],\n",
      "        [1.7217, 0.7997, 1.8823, 0.8089, 1.3241],\n",
      "        [0.8908, 2.4951, 0.3159, 0.8085, 1.0764],\n",
      "        [0.5981, 1.6416, 0.0185, 2.8547, 0.2258]])\n"
     ]
    }
   ],
   "source": [
    "t2 = torch.load(Path('data/t2.pt'))\n",
    "t2o = torch.load(Path('out/t2.pt_X3.pt'))\n",
    "print(t2)\n",
    "print(t2o)"
   ]
  }
 ],
 "metadata": {
  "kernelspec": {
   "display_name": "Python 3 (ipykernel)",
   "language": "python",
   "name": "python3"
  },
  "language_info": {
   "codemirror_mode": {
    "name": "ipython",
    "version": 3
   },
   "file_extension": ".py",
   "mimetype": "text/x-python",
   "name": "python",
   "nbconvert_exporter": "python",
   "pygments_lexer": "ipython3",
   "version": "3.9.15"
  }
 },
 "nbformat": 4,
 "nbformat_minor": 5
}
