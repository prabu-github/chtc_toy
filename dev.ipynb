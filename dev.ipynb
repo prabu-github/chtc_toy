{
 "cells": [
  {
   "cell_type": "code",
   "execution_count": 1,
   "id": "8d15a01d",
   "metadata": {},
   "outputs": [
    {
     "name": "stdout",
     "output_type": "stream",
     "text": [
      "Overwriting params.py\n"
     ]
    }
   ],
   "source": [
    "%%writefile params.py\n",
    "PARAMS = {'double': 2.0,\n",
    "          'triple': 3.0,\n",
    "          'quadruple': 4.0}"
   ]
  },
  {
   "cell_type": "code",
   "execution_count": 2,
   "id": "59f534cf",
   "metadata": {},
   "outputs": [
    {
     "name": "stdout",
     "output_type": "stream",
     "text": [
      "C:\\Users\\Prabu\\projworks\\chtc_toy\\data\n"
     ]
    }
   ],
   "source": [
    "from pathlib import Path\n",
    "import torch\n",
    "torch.manual_seed(42)\n",
    "\n",
    "data_dir = Path('data').resolve()\n",
    "data_dir.mkdir(parents=True, exist_ok=True)\n",
    "print(data_dir)\n",
    "\n",
    "t1 = torch.rand(3, 4)\n",
    "torch.save(t1, data_dir/'t1.pt')\n",
    "\n",
    "t2 = torch.rand(4, 5)\n",
    "torch.save(t2, data_dir/'t2.pt')"
   ]
  },
  {
   "cell_type": "code",
   "execution_count": 3,
   "id": "6a4b4b51",
   "metadata": {},
   "outputs": [
    {
     "name": "stdout",
     "output_type": "stream",
     "text": [
      "Overwriting main.py\n"
     ]
    }
   ],
   "source": [
    "%%writefile main.py\n",
    "from pathlib import Path\n",
    "import argparse\n",
    "import numpy as np\n",
    "import pandas as pd\n",
    "import scipy\n",
    "import sklearn\n",
    "import torch\n",
    "from argparse import ArgumentParser\n",
    "\n",
    "from params import *\n",
    "\n",
    "if __name__ == '__main__':\n",
    "    parser = ArgumentParser()\n",
    "    parser.add_argument('--data_file',\n",
    "                        type=str,\n",
    "                        required=True,\n",
    "                        action='store')\n",
    "    parser.add_argument('--param',\n",
    "                        type=str,\n",
    "                        default='double',\n",
    "                        action='store')\n",
    "    parser.add_argument('--out_dir',\n",
    "                        type=str,\n",
    "                        required=True,\n",
    "                        action='store')\n",
    "    args = parser.parse_args()\n",
    "    data_file = Path(args.data_file).resolve()\n",
    "    factor = PARAMS[args.param]\n",
    "    out_dir = Path(args.out_dir).resolve()\n",
    "    \n",
    "    out_dir.mkdir(parents=True, exist_ok=True)\n",
    "    out_file = out_dir/f'{data_file.name}_X{int(factor)}.pt'\n",
    "    \n",
    "    t = torch.load(data_file)\n",
    "    tout = t*factor\n",
    "    torch.save(tout, out_file)"
   ]
  }
 ],
 "metadata": {
  "kernelspec": {
   "display_name": "Python 3 (ipykernel)",
   "language": "python",
   "name": "python3"
  },
  "language_info": {
   "codemirror_mode": {
    "name": "ipython",
    "version": 3
   },
   "file_extension": ".py",
   "mimetype": "text/x-python",
   "name": "python",
   "nbconvert_exporter": "python",
   "pygments_lexer": "ipython3",
   "version": "3.9.15"
  }
 },
 "nbformat": 4,
 "nbformat_minor": 5
}
