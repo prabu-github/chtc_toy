{
 "cells": [
  {
   "cell_type": "markdown",
   "id": "a0ae098f",
   "metadata": {},
   "source": [
    "## Getting code and data setup locally\n",
    "\n",
    "- Execute `dev.ipynb`\n",
    "- Run following commands on CL. \n",
    "    - `python main.py --data_file data/t1.pt --param double --out_dir out; python main.py --data_file data/t2.pt --param triple --out_dir out` \n",
    "- Execute `test.ipynb` and verify factors were applied correctly."
   ]
  },
  {
   "cell_type": "markdown",
   "id": "6ce0edab",
   "metadata": {},
   "source": [
    "## Getting environment setup on CHTC"
   ]
  },
  {
   "cell_type": "code",
   "execution_count": null,
   "id": "2dc82116",
   "metadata": {},
   "outputs": [],
   "source": []
  }
 ],
 "metadata": {
  "kernelspec": {
   "display_name": "Python 3 (ipykernel)",
   "language": "python",
   "name": "python3"
  },
  "language_info": {
   "codemirror_mode": {
    "name": "ipython",
    "version": 3
   },
   "file_extension": ".py",
   "mimetype": "text/x-python",
   "name": "python",
   "nbconvert_exporter": "python",
   "pygments_lexer": "ipython3",
   "version": "3.9.15"
  }
 },
 "nbformat": 4,
 "nbformat_minor": 5
}
